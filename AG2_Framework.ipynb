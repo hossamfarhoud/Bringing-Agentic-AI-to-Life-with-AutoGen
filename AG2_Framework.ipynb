{
  "nbformat": 4,
  "nbformat_minor": 0,
  "metadata": {
    "colab": {
      "provenance": []
    },
    "kernelspec": {
      "name": "python3",
      "display_name": "Python 3"
    },
    "language_info": {
      "name": "python"
    }
  },
  "cells": [
    {
      "cell_type": "markdown",
      "source": [
        "#Install Packages"
      ],
      "metadata": {
        "id": "RR6FG-La7aQP"
      }
    },
    {
      "cell_type": "code",
      "execution_count": null,
      "metadata": {
        "id": "lxAMS4Gfn8xE"
      },
      "outputs": [],
      "source": [
        "!pip install autogen\n",
        "!pip install gradio"
      ]
    },
    {
      "cell_type": "markdown",
      "source": [
        "#Set API Keys"
      ],
      "metadata": {
        "id": "xSH6Tb3t7e4d"
      }
    },
    {
      "cell_type": "code",
      "source": [
        "from google.colab import userdata\n",
        "import os\n",
        "os.environ['OPENAI_API_KEY'] = userdata.get(\"OPENAI_API_KEY\")\n",
        "os.environ['GOOGLE_API_KEY'] = userdata.get(\"GOOGLE_API_KEY\")"
      ],
      "metadata": {
        "id": "EOfF758VoIXA"
      },
      "execution_count": null,
      "outputs": []
    },
    {
      "cell_type": "markdown",
      "source": [
        "# Conversable Agent"
      ],
      "metadata": {
        "id": "Z9T7o9I27hCX"
      }
    },
    {
      "cell_type": "code",
      "source": [
        "from autogen import ConversableAgent, LLMConfig\n",
        "\n",
        "llm_config_openai = LLMConfig(api_type=\"openai\", model=\"gpt-4o-mini\")\n",
        "#llm_config_gemini=LLMConfig(api_type=\"google\", model=\"gemini-pro\")\n",
        "\n",
        "philosopher_agent=ConversableAgent(\n",
        "    name=\"philosopher_agent\",\n",
        "    system_message=\n",
        "    \"\"\"\n",
        "    You are a mental health expert.\n",
        "    You will help people improve their mood and overcome depression.\n",
        "    You will always speak positively and encourage others.\n",
        "    You will support people in dealing with loneliness.\n",
        "    You will listen patiently and respond with empathy.\n",
        "\n",
        "    Finally, Take the feedback from the user ask the user to rate between 1 to 10\n",
        "    Refine the answer until the user gives above 8\n",
        "    \"\"\",\n",
        "    llm_config=llm_config_openai,\n",
        "                      )"
      ],
      "metadata": {
        "id": "CXgp1iIFqgkm"
      },
      "execution_count": null,
      "outputs": []
    },
    {
      "cell_type": "code",
      "source": [
        "result=philosopher_agent.generate_reply([{\"content\": \"Tell me a trick to be happy\",\n",
        "                                          \"role\": \"user\"}] )\n",
        "import pprint\n",
        "pprint.pprint(result)"
      ],
      "metadata": {
        "id": "j3tJRWdDXdbk"
      },
      "execution_count": null,
      "outputs": []
    },
    {
      "cell_type": "code",
      "source": [
        "result=philosopher_agent.generate_reply([{\"content\": \"What was my previous question?\",\n",
        "                                          \"role\": \"user\"}] )\n",
        "import pprint\n",
        "pprint.pprint(result)"
      ],
      "metadata": {
        "id": "C01E2gNcZE0V"
      },
      "execution_count": null,
      "outputs": []
    },
    {
      "cell_type": "markdown",
      "source": [
        "#Two Agents"
      ],
      "metadata": {
        "id": "1K3NDgGOaO0v"
      }
    },
    {
      "cell_type": "code",
      "source": [
        "student=ConversableAgent(\n",
        "    name=\"student\",\n",
        "    system_message=\n",
        "    \"\"\"\n",
        "    You act like human\n",
        "    Your job is to ask questions to philosophy expert\n",
        "    You can also rate the answers given by the philosopher agent\n",
        "    \"\"\",\n",
        "    llm_config=llm_config_openai,\n",
        ")"
      ],
      "metadata": {
        "id": "0nj3UXxpWsFM"
      },
      "execution_count": null,
      "outputs": []
    },
    {
      "cell_type": "code",
      "source": [
        "result=student.generate_reply([{\"content\": \"Who are you?\",\n",
        "                       \"role\": \"user\"}] )\n",
        "pprint.pprint(result)"
      ],
      "metadata": {
        "id": "s4zNjvfzbMrb"
      },
      "execution_count": null,
      "outputs": []
    },
    {
      "cell_type": "markdown",
      "source": [
        "#The conversation"
      ],
      "metadata": {
        "id": "yjWGV4VZdeMf"
      }
    },
    {
      "cell_type": "code",
      "source": [
        "result=student.initiate_chat(\n",
        "    recipient=philosopher_agent,\n",
        "    message =\"How to avoid social media distractions and incrase my focus on learning something new?\",\n",
        "    max_turns=3\n",
        ")"
      ],
      "metadata": {
        "id": "lQNB1ycMWxD8"
      },
      "execution_count": null,
      "outputs": []
    },
    {
      "cell_type": "code",
      "source": [
        "pprint.pprint(result.chat_history)"
      ],
      "metadata": {
        "id": "ulxrTJuk_sVN"
      },
      "execution_count": null,
      "outputs": []
    },
    {
      "cell_type": "markdown",
      "source": [
        "#Human in the Loop"
      ],
      "metadata": {
        "id": "_KrMWrYCma29"
      }
    },
    {
      "cell_type": "code",
      "source": [
        "student=ConversableAgent(\n",
        "    name=\"student\",\n",
        "    system_message=\n",
        "    \"\"\"\n",
        "    You act like human\n",
        "    Your job is to ask questions to philosophy expert\n",
        "    You can also rate the answers given by the philosopher agent\n",
        "    \"\"\",\n",
        "    human_input_mode=\"ALWAYS\",\n",
        "    llm_config=llm_config_openai,\n",
        ")"
      ],
      "metadata": {
        "id": "_VSR0V1NigqC"
      },
      "execution_count": null,
      "outputs": []
    },
    {
      "cell_type": "code",
      "source": [
        "result=student.initiate_chat(\n",
        "    recipient=philosopher_agent,\n",
        "    message =\"Hello\",\n",
        "    max_turns=3\n",
        ")"
      ],
      "metadata": {
        "id": "k0eiAWl7i6BG"
      },
      "execution_count": null,
      "outputs": []
    },
    {
      "cell_type": "markdown",
      "source": [
        "#Travel Planner Agents"
      ],
      "metadata": {
        "id": "433MSCOloi3d"
      }
    },
    {
      "cell_type": "code",
      "source": [
        "from autogen import ConversableAgent, LLMConfig\n",
        "\n",
        "# Define the LLM configuration (can be OpenAI or another provider)\n",
        "llm_config_openai = LLMConfig(api_type=\"openai\", model=\"gpt-4o-mini\")\n",
        "\n",
        "# Travel Planner Agent\n",
        "travel_planner_agent = ConversableAgent(\n",
        "    name=\"travel_planner_agent\",\n",
        "    system_message=\n",
        "    \"\"\"\n",
        "    You are a smart and friendly travel planner.\n",
        "    Your job is to help the user plan their travel itinerary.\n",
        "    You will ask relevant questions such as travel destination, dates, budget,\n",
        "    You will ask relevant questions on preferences (e.g., nature, culture, food), and travel companions.\n",
        "    Based on the inputs, suggest a travel plan including transportation, stay, local attractions, and tips.\n",
        "    End each conversation by asking the user if they are satisfied or want refinements.\n",
        "\n",
        "    If the user is not satisfied, refine your plan until they give a rating of 9 or above out of 10.\n",
        "    \"\"\",\n",
        "    llm_config=llm_config_openai,\n",
        ")\n",
        "\n",
        "# Traveler (User) Agent\n",
        "traveler = ConversableAgent(\n",
        "    name=\"traveler\",\n",
        "    system_message=\n",
        "    \"\"\"\n",
        "    You are a curious and enthusiastic traveler looking to plan your next trip.\n",
        "    You will answer questions asked by the travel planner and also give feedback on the suggested itinerary.\n",
        "    You can also rate the plan between 1 and 10. If it's below 9, ask for adjustments or improvements.\n",
        "    \"\"\",\n",
        "    human_input_mode=\"ALWAYS\",\n",
        "    llm_config=llm_config_openai,\n",
        ")\n",
        "\n",
        "# Start the conversation\n",
        "result = traveler.initiate_chat(\n",
        "    recipient=travel_planner_agent,\n",
        "    message=\"Hi, I want to plan a 5-day trip to Italy. Can you help?\",\n",
        "    max_turns=3\n",
        ")\n"
      ],
      "metadata": {
        "id": "7i78T49iok2d"
      },
      "execution_count": null,
      "outputs": []
    },
    {
      "cell_type": "markdown",
      "source": [
        "#Consumer Lending - Prescreening -Onboarding Agent"
      ],
      "metadata": {
        "id": "EqZbmHqIxozx"
      }
    },
    {
      "cell_type": "code",
      "source": [
        "from autogen import ConversableAgent, LLMConfig\n",
        "\n",
        "# Define the LLM configuration (can be OpenAI or another provider)\n",
        "llm_config_openai = LLMConfig(api_type=\"openai\", model=\"gpt-4o-mini\")\n"
      ],
      "metadata": {
        "id": "n1eJ3FPPxr2e"
      },
      "execution_count": null,
      "outputs": []
    },
    {
      "cell_type": "markdown",
      "source": [
        "## Agent-1: Collects the customer details"
      ],
      "metadata": {
        "id": "lyUgUMKJ0iFV"
      }
    },
    {
      "cell_type": "code",
      "source": [
        "profile_info_collection_agent = ConversableAgent(\n",
        "    name=\"profile_info_collection_agent\",\n",
        "    system_message='''You are a helpful customer onboarding agent,\n",
        "    you are here to help new customers get started with our product/service.\n",
        "    Your job is to gather customer's name and mobile number.\n",
        "    Do not ask for other information. Return 'TERMINATE'\n",
        "    when you have gathered all the information.''',\n",
        "    llm_config=llm_config_openai,\n",
        "    human_input_mode=\"NEVER\",\n",
        ")\n"
      ],
      "metadata": {
        "id": "wyrACytsynPX"
      },
      "execution_count": null,
      "outputs": []
    },
    {
      "cell_type": "code",
      "source": [
        "profile_info_collection_agent.generate_reply([{\"content\": \"Who are you?\",\n",
        "                       \"role\": \"user\"}] )"
      ],
      "metadata": {
        "id": "w7es_1przQlE"
      },
      "execution_count": null,
      "outputs": []
    },
    {
      "cell_type": "markdown",
      "source": [
        "## Agent-2: Collects the interested products"
      ],
      "metadata": {
        "id": "x6xRaQC50pLv"
      }
    },
    {
      "cell_type": "code",
      "source": [
        "preference_scan_agent = ConversableAgent(\n",
        "    name=\"preference_scan_agent\",\n",
        "    system_message='''You are a helpful customer preference finding agent,\n",
        "    you are here to help new customers get started with our product.\n",
        "    Your job is to gather customer's preferences on\n",
        "    -Looking for a Home Loan\n",
        "    -Looking for a Personal Loan\n",
        "    -Looking for a Education Loan\n",
        "    -Looking for a Gold Loan\n",
        "    ''',\n",
        "    llm_config=llm_config_openai,\n",
        "    human_input_mode=\"NEVER\",\n",
        ")"
      ],
      "metadata": {
        "id": "999K9dSdzMh_"
      },
      "execution_count": null,
      "outputs": []
    },
    {
      "cell_type": "code",
      "source": [
        "preference_scan_agent.generate_reply([{\"content\": \"Who are you?\",\n",
        "                       \"role\": \"user\"}] )"
      ],
      "metadata": {
        "id": "YB3xCHyz2Zbn"
      },
      "execution_count": null,
      "outputs": []
    },
    {
      "cell_type": "markdown",
      "source": [
        "## Agent-3: Loan Documents Agent"
      ],
      "metadata": {
        "id": "pkJH0vgpCmOK"
      }
    },
    {
      "cell_type": "code",
      "source": [
        "loan_documents_agent = ConversableAgent(\n",
        "    name=\"loan_documents_agent\",\n",
        "    system_message='''You are a helpful customer service agent.\n",
        "    You will provide the information on loan processing checklist based on the customer preference.\n",
        "\n",
        "    Check List for a Home Loan\n",
        "    Proof of Identity – Aadhaar Card / PAN Card / Passport\n",
        "    Proof of Income – Salary slips / IT returns / Bank statements\n",
        "    Property Documents – Sale deed / Agreement to Sell / Title papers\n",
        "\n",
        "    Check List for a Personal Loan\n",
        "    KYC Documents – PAN + Aadhaar / Voter ID\n",
        "    Income Proof – Last 3 months salary slips / IT returns\n",
        "    Bank Statement – Last 6 months\n",
        "\n",
        "    Check List for an Education Loan\n",
        "    Admission Letter – From recognized college/university\n",
        "    Fee Structure – Official document from the institution\n",
        "    Income Proof of Co-applicant – Salary slips / ITR of parent/guardian\n",
        "\n",
        "    Check List a Gold Loan\n",
        "    Gold Articles – Jewelry or coins to be pledged\n",
        "    KYC Documents – Aadhaar and PAN\n",
        "    Recent Photograph – Passport size photo\n",
        "\n",
        "    Return 'TERMINATE' when you are done.''',\n",
        "    llm_config=llm_config_openai,\n",
        "    human_input_mode=\"NEVER\",\n",
        ")"
      ],
      "metadata": {
        "id": "qRSgl8gMCp84"
      },
      "execution_count": null,
      "outputs": []
    },
    {
      "cell_type": "code",
      "source": [
        "loan_documents_agent.generate_reply([{\"content\": \"Who are you?\",\n",
        "                       \"role\": \"user\"}] )"
      ],
      "metadata": {
        "id": "Uva5hrBVD8lH"
      },
      "execution_count": null,
      "outputs": []
    },
    {
      "cell_type": "markdown",
      "source": [
        "## Agent4:  Customer Proxy Agent"
      ],
      "metadata": {
        "id": "S7xc7RC-4GKK"
      }
    },
    {
      "cell_type": "code",
      "source": [
        "#This is not a llm agent. It just takes the input from the user\n",
        "customer_proxy_agent = ConversableAgent(\n",
        "    name=\"customer_proxy_agent\",\n",
        "    llm_config=False,\n",
        "    human_input_mode=\"ALWAYS\",\n",
        "    is_termination_msg=lambda msg: \"terminate\" in msg.get(\"content\").lower(),\n",
        ")"
      ],
      "metadata": {
        "id": "1JLKAVS-4PXx"
      },
      "execution_count": null,
      "outputs": []
    },
    {
      "cell_type": "code",
      "source": [
        "customer_proxy_agent.generate_reply([{\"content\": \"Who are you?\",\n",
        "                       \"role\": \"user\"}] )\n"
      ],
      "metadata": {
        "id": "4dCR8hXV_7Bd"
      },
      "execution_count": null,
      "outputs": []
    },
    {
      "cell_type": "markdown",
      "source": [
        "## Creating Tasks"
      ],
      "metadata": {
        "id": "_RpEUyI3AMGz"
      }
    },
    {
      "cell_type": "code",
      "source": [
        "chats = [\n",
        "    {\n",
        "        \"sender\": profile_info_collection_agent,\n",
        "        \"recipient\": customer_proxy_agent,\n",
        "        \"message\":\n",
        "            \"Hello, I'm here to help you get started with loan approval process.\"\n",
        "            \"Could you tell me your name and mobile number\",\n",
        "        \"summary_method\": \"reflection_with_llm\",\n",
        "        \"summary_args\": {\n",
        "            \"summary_prompt\" : \"Return the customer information \"\n",
        "                             \"into as JSON object only: \"\n",
        "                             \"{'name': '', 'Mobile Number': ''}\",\n",
        "        },\n",
        "        \"max_turns\": 2,\n",
        "        \"clear_history\" : True\n",
        "    },\n",
        "    {\n",
        "        \"sender\": preference_scan_agent,\n",
        "        \"recipient\": customer_proxy_agent,\n",
        "        \"message\":\n",
        "                \"Great! Could you tell me kind of loan you are interested in?\"\n",
        "                \"Is it Home Loan or Personal Loan or Education Loan or Gold loan or Any other type of loan \",\n",
        "        \"summary_method\": \"reflection_with_llm\",\n",
        "        \"summary_args\": {\n",
        "            \"summary_prompt\" : \"Return the customer information \"\n",
        "                             \"into as JSON object only: \"\n",
        "                             \"{'loan_type': ''}\",\n",
        "        },\n",
        "        \"max_turns\": 2,\n",
        "        \"clear_history\" : False\n",
        "    },\n",
        "    {\n",
        "        \"sender\": customer_proxy_agent,\n",
        "        \"recipient\": loan_documents_agent,\n",
        "        \"message\": \"Give me the checklist for the loan mentioned\",\n",
        "        \"max_turns\": 1,\n",
        "        \"summary_method\": \"reflection_with_llm\",\n",
        "    },\n",
        "]"
      ],
      "metadata": {
        "id": "ZvA9BK8pAQGH"
      },
      "execution_count": null,
      "outputs": []
    },
    {
      "cell_type": "markdown",
      "source": [
        "##Initiate chats"
      ],
      "metadata": {
        "id": "j04x9nSpF_uW"
      }
    },
    {
      "cell_type": "code",
      "source": [
        "from autogen import initiate_chats\n",
        "\n",
        "chat_results = initiate_chats(chats)"
      ],
      "metadata": {
        "id": "j9sFgN35EQSD"
      },
      "execution_count": null,
      "outputs": []
    },
    {
      "cell_type": "code",
      "source": [
        "#Print out the summary\n",
        "for chat_result in chat_results:\n",
        "    print(chat_result.summary)"
      ],
      "metadata": {
        "id": "BA4xfI2_ETXz"
      },
      "execution_count": null,
      "outputs": []
    },
    {
      "cell_type": "code",
      "source": [
        "for chat_result in chat_results:\n",
        "    print(chat_result.cost)\n",
        "    print(\"\\n\")"
      ],
      "metadata": {
        "id": "F3pXNBVOFyI8"
      },
      "execution_count": null,
      "outputs": []
    },
    {
      "cell_type": "code",
      "source": [],
      "metadata": {
        "id": "yIXX0R-a1rRe"
      },
      "execution_count": null,
      "outputs": []
    }
  ]
}